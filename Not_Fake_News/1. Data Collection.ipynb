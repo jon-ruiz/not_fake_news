{
 "cells": [
  {
   "cell_type": "code",
   "execution_count": 16,
   "metadata": {},
   "outputs": [],
   "source": [
    "import pandas as pd\n",
    "import requests\n",
    "import time\n",
    "from bs4 import BeautifulSoup\n",
    "from sklearn.feature_extraction.text import CountVectorizer\n",
    "from sklearn.linear_model import LogisticRegression"
   ]
  },
  {
   "cell_type": "code",
   "execution_count": 147,
   "metadata": {},
   "outputs": [],
   "source": [
    "#Pulling data from the r/news subreddit via Pushshift.io (https://pushshift.io/)\n",
    "headers = {'User-agent':'my_user_agent'}\n",
    "url = \"https://api.pushshift.io/reddit/search/submission/?subreddit=news&size=1000\"\n",
    "res = requests.get(url,headers=headers)\n",
    "df = pd.DataFrame(res.json()['data'])"
   ]
  },
  {
   "cell_type": "code",
   "execution_count": null,
   "metadata": {},
   "outputs": [],
   "source": [
    "#Pulling data from the r/nottheonion subreddit via Pushshift.io (https://pushshift.io/)\n",
    "headers = {'User-agent':'my_user_agent'}\n",
    "url2 = \"https://api.pushshift.io/reddit/search/submission/?subreddit=nottheonion&size=1000\"\n",
    "res2 = requests.get(url2,headers=headers)\n",
    "df2 = pd.DataFrame(res2.json()['data'])"
   ]
  },
  {
   "cell_type": "code",
   "execution_count": null,
   "metadata": {},
   "outputs": [],
   "source": [
    "#df and df2 are dataframes containing the titles of the posts in the r/news and r/nottheonion subreddits, respectively.\n",
    "#df and df2 will be kept in memory as seperate data bases in order to reference each corpus seperately during the analysis stage. \n",
    "\n",
    "df = pd.DataFrame({\"title\":df.title, \"label\":0})\n",
    "\n",
    "df2 = pd.DataFrame({\"title\":df2.title, \"label\":1})\n",
    "\n",
    "#data is a term containing the merged contents of df and df2.\n",
    "\n",
    "data = df.append(df2)\n",
    "\n",
    "data.head()"
   ]
  },
  {
   "cell_type": "code",
   "execution_count": 242,
   "metadata": {},
   "outputs": [],
   "source": [
    "#saving versions of all three dataframes as pickles and csv files for future use. \n",
    "data.to_pickle(\"./data.pkl\")\n",
    "\n",
    "data.to_csv(\"./data.csv\")\n",
    "\n",
    "df.to_pickle(\"./df.pkl\")\n",
    "\n",
    "df.to_csv(\"./df.csv\")\n",
    "\n",
    "df2.to_pickle(\"./df2.pkl\")\n",
    "\n",
    "df2.to_csv(\"./df2.csv\")"
   ]
  },
  {
   "cell_type": "code",
   "execution_count": 170,
   "metadata": {},
   "outputs": [
    {
     "data": {
      "text/plain": [
       "1    0.5\n",
       "0    0.5\n",
       "Name: label, dtype: float64"
      ]
     },
     "execution_count": 170,
     "metadata": {},
     "output_type": "execute_result"
    }
   ],
   "source": [
    "#confirming balance between classes.\n",
    "data.label.value_counts(1)"
   ]
  }
 ],
 "metadata": {
  "kernelspec": {
   "display_name": "Python 3",
   "language": "python",
   "name": "python3"
  },
  "language_info": {
   "codemirror_mode": {
    "name": "ipython",
    "version": 3
   },
   "file_extension": ".py",
   "mimetype": "text/x-python",
   "name": "python",
   "nbconvert_exporter": "python",
   "pygments_lexer": "ipython3",
   "version": "3.6.8"
  }
 },
 "nbformat": 4,
 "nbformat_minor": 2
}
